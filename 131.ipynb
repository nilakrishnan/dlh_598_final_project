{
  "cells": [
    {
      "cell_type": "markdown",
      "metadata": {
        "id": "MQ0sNuMePBXx"
      },
      "source": [
        "# Introduction\n",
        "\n",
        "Deep learning models are an essential part of big data anlaysis within healthcare. Neutral networks are utilized to optimally predict future diagnosis, hospital readmission, drug interaction, treatment recommendation, etc. Specifically, graph neural networks (GNNs) are vital to drug discovery, molecular property prediction, and other drug interaction prediciton tasks; one example is drug pair scoring, the prediciton task of determining the relationship between a pair of drugs, based on the known effects of various other drug pairs. Some specific predictions between drugs include drug-drug interaction, synergy, and polypharmacy side effects.\n",
        "\n",
        "While there are open-scource drug interaction libraries available, they often predict based on a single molecule and do not allow for drug synergy predictions, predicting if the combined effect of a pair of drugs is more effective than the additive effect of each drug separately. There is no multi-use, streamlined framwork that is easily accessible by machine learning researchers.\n",
        "\n",
        "The paper introduces ChemicalX [1], a library of PyTorch implementations of 11 prominent deep-learning models that predict various drug-drug interactions. Aside from the drug pair scoring deep-learning model architectures, this library also provides data loaders, integrated benchmark datasets, training, and evaluation routines.\n",
        "\n",
        "All ChemicalX models were trained and tested across multiple datasets to predict drug-drug interaction, synergy, and polypharmacy side effects; and all models were evaulated using AUPRC, AUROC, and F1 metrics. Finally, the authors address use cases of the library by oncologists, computational chemists, drug safety researchers, and various oher machine learning researchers.\n"
      ]
    },
    {
      "cell_type": "markdown",
      "metadata": {
        "id": "kf9mZyTjx7rd"
      },
      "source": [
        "Links:\n",
        "- [GitHub repository](https://github.com/nilakrishnan/dlh_598_final_project)\n",
        "- [Final Presentation Video](?)"
      ]
    },
    {
      "cell_type": "markdown",
      "metadata": {
        "id": "uygL9tTPSVHB"
      },
      "source": [
        "# Scope of Reproducibility\n",
        "DeepSynergy [2] and DeepDDS [3] are two of the models implemented by the ChemicalX library.\n",
        "\n",
        "The specific hypothesis that will be tested in this report is that DeepSynergy will outperform DeepDDS when trained and tested using the DrugComb [4] dataset to predict drug synergy. Specifically, the DeepSynergy model implemented in this report will have a higher AUPRC, higher AUROC, and higher F1 score than the DeepDDS model from the ChemicalX library.\n"
      ]
    },
    {
      "cell_type": "markdown",
      "metadata": {
        "id": "xWAHJ_1CdtaA"
      },
      "source": [
        "# Methodology\n",
        "\n"
      ]
    },
    {
      "cell_type": "markdown",
      "metadata": {
        "id": "RFl-9_EAczR0"
      },
      "source": [
        "##  Environment\n",
        "Please ensure that the notebook is connected to a runtime with Python3 (version 3.10) and a T4 GPU before proceeding.\n",
        "\n",
        "First, all necessary dependencies are installed:"
      ]
    },
    {
      "cell_type": "code",
      "execution_count": 1,
      "metadata": {
        "id": "yu61Jp1xrnKk",
        "colab": {
          "base_uri": "https://localhost:8080/"
        },
        "outputId": "ffe5b3e2-dac5-45bc-c380-dace6e4a2af5"
      },
      "outputs": [
        {
          "output_type": "stream",
          "name": "stdout",
          "text": [
            "Looking in links: https://data.pyg.org/whl/torch-2.2.1+cu121.html\n",
            "Requirement already satisfied: torch-scatter in /usr/local/lib/python3.10/dist-packages (2.1.2+pt22cu121)\n",
            "Looking in links: https://data.pyg.org/whl/torch-2.2.1+cu121.html\n",
            "Requirement already satisfied: torch-cluster in /usr/local/lib/python3.10/dist-packages (1.6.3+pt22cu121)\n",
            "Requirement already satisfied: scipy in /usr/local/lib/python3.10/dist-packages (from torch-cluster) (1.11.4)\n",
            "Requirement already satisfied: numpy<1.28.0,>=1.21.6 in /usr/local/lib/python3.10/dist-packages (from scipy->torch-cluster) (1.25.2)\n",
            "Requirement already satisfied: torchdrug in /usr/local/lib/python3.10/dist-packages (0.2.1)\n",
            "Requirement already satisfied: torch>=1.8.0 in /usr/local/lib/python3.10/dist-packages (from torchdrug) (2.2.1+cu121)\n",
            "Requirement already satisfied: torch-scatter>=2.0.8 in /usr/local/lib/python3.10/dist-packages (from torchdrug) (2.1.2+pt22cu121)\n",
            "Requirement already satisfied: torch-cluster>=1.5.9 in /usr/local/lib/python3.10/dist-packages (from torchdrug) (1.6.3+pt22cu121)\n",
            "Requirement already satisfied: decorator in /usr/local/lib/python3.10/dist-packages (from torchdrug) (4.4.2)\n",
            "Requirement already satisfied: numpy>=1.11 in /usr/local/lib/python3.10/dist-packages (from torchdrug) (1.25.2)\n",
            "Requirement already satisfied: rdkit-pypi>=2020.9 in /usr/local/lib/python3.10/dist-packages (from torchdrug) (2022.9.5)\n",
            "Requirement already satisfied: matplotlib in /usr/local/lib/python3.10/dist-packages (from torchdrug) (3.7.1)\n",
            "Requirement already satisfied: tqdm in /usr/local/lib/python3.10/dist-packages (from torchdrug) (4.66.4)\n",
            "Requirement already satisfied: networkx in /usr/local/lib/python3.10/dist-packages (from torchdrug) (3.3)\n",
            "Requirement already satisfied: ninja in /usr/local/lib/python3.10/dist-packages (from torchdrug) (1.11.1.1)\n",
            "Requirement already satisfied: jinja2 in /usr/local/lib/python3.10/dist-packages (from torchdrug) (3.1.3)\n",
            "Requirement already satisfied: lmdb in /usr/local/lib/python3.10/dist-packages (from torchdrug) (1.4.1)\n",
            "Requirement already satisfied: fair-esm in /usr/local/lib/python3.10/dist-packages (from torchdrug) (2.0.0)\n",
            "Requirement already satisfied: Pillow in /usr/local/lib/python3.10/dist-packages (from rdkit-pypi>=2020.9->torchdrug) (9.4.0)\n",
            "Requirement already satisfied: filelock in /usr/local/lib/python3.10/dist-packages (from torch>=1.8.0->torchdrug) (3.14.0)\n",
            "Requirement already satisfied: typing-extensions>=4.8.0 in /usr/local/lib/python3.10/dist-packages (from torch>=1.8.0->torchdrug) (4.11.0)\n",
            "Requirement already satisfied: sympy in /usr/local/lib/python3.10/dist-packages (from torch>=1.8.0->torchdrug) (1.12)\n",
            "Requirement already satisfied: fsspec in /usr/local/lib/python3.10/dist-packages (from torch>=1.8.0->torchdrug) (2023.6.0)\n",
            "Requirement already satisfied: nvidia-cuda-nvrtc-cu12==12.1.105 in /usr/local/lib/python3.10/dist-packages (from torch>=1.8.0->torchdrug) (12.1.105)\n",
            "Requirement already satisfied: nvidia-cuda-runtime-cu12==12.1.105 in /usr/local/lib/python3.10/dist-packages (from torch>=1.8.0->torchdrug) (12.1.105)\n",
            "Requirement already satisfied: nvidia-cuda-cupti-cu12==12.1.105 in /usr/local/lib/python3.10/dist-packages (from torch>=1.8.0->torchdrug) (12.1.105)\n",
            "Requirement already satisfied: nvidia-cudnn-cu12==8.9.2.26 in /usr/local/lib/python3.10/dist-packages (from torch>=1.8.0->torchdrug) (8.9.2.26)\n",
            "Requirement already satisfied: nvidia-cublas-cu12==12.1.3.1 in /usr/local/lib/python3.10/dist-packages (from torch>=1.8.0->torchdrug) (12.1.3.1)\n",
            "Requirement already satisfied: nvidia-cufft-cu12==11.0.2.54 in /usr/local/lib/python3.10/dist-packages (from torch>=1.8.0->torchdrug) (11.0.2.54)\n",
            "Requirement already satisfied: nvidia-curand-cu12==10.3.2.106 in /usr/local/lib/python3.10/dist-packages (from torch>=1.8.0->torchdrug) (10.3.2.106)\n",
            "Requirement already satisfied: nvidia-cusolver-cu12==11.4.5.107 in /usr/local/lib/python3.10/dist-packages (from torch>=1.8.0->torchdrug) (11.4.5.107)\n",
            "Requirement already satisfied: nvidia-cusparse-cu12==12.1.0.106 in /usr/local/lib/python3.10/dist-packages (from torch>=1.8.0->torchdrug) (12.1.0.106)\n",
            "Requirement already satisfied: nvidia-nccl-cu12==2.19.3 in /usr/local/lib/python3.10/dist-packages (from torch>=1.8.0->torchdrug) (2.19.3)\n",
            "Requirement already satisfied: nvidia-nvtx-cu12==12.1.105 in /usr/local/lib/python3.10/dist-packages (from torch>=1.8.0->torchdrug) (12.1.105)\n",
            "Requirement already satisfied: triton==2.2.0 in /usr/local/lib/python3.10/dist-packages (from torch>=1.8.0->torchdrug) (2.2.0)\n",
            "Requirement already satisfied: nvidia-nvjitlink-cu12 in /usr/local/lib/python3.10/dist-packages (from nvidia-cusolver-cu12==11.4.5.107->torch>=1.8.0->torchdrug) (12.4.127)\n",
            "Requirement already satisfied: scipy in /usr/local/lib/python3.10/dist-packages (from torch-cluster>=1.5.9->torchdrug) (1.11.4)\n",
            "Requirement already satisfied: MarkupSafe>=2.0 in /usr/local/lib/python3.10/dist-packages (from jinja2->torchdrug) (2.1.5)\n",
            "Requirement already satisfied: contourpy>=1.0.1 in /usr/local/lib/python3.10/dist-packages (from matplotlib->torchdrug) (1.2.1)\n",
            "Requirement already satisfied: cycler>=0.10 in /usr/local/lib/python3.10/dist-packages (from matplotlib->torchdrug) (0.12.1)\n",
            "Requirement already satisfied: fonttools>=4.22.0 in /usr/local/lib/python3.10/dist-packages (from matplotlib->torchdrug) (4.51.0)\n",
            "Requirement already satisfied: kiwisolver>=1.0.1 in /usr/local/lib/python3.10/dist-packages (from matplotlib->torchdrug) (1.4.5)\n",
            "Requirement already satisfied: packaging>=20.0 in /usr/local/lib/python3.10/dist-packages (from matplotlib->torchdrug) (24.0)\n",
            "Requirement already satisfied: pyparsing>=2.3.1 in /usr/local/lib/python3.10/dist-packages (from matplotlib->torchdrug) (3.1.2)\n",
            "Requirement already satisfied: python-dateutil>=2.7 in /usr/local/lib/python3.10/dist-packages (from matplotlib->torchdrug) (2.8.2)\n",
            "Requirement already satisfied: six>=1.5 in /usr/local/lib/python3.10/dist-packages (from python-dateutil>=2.7->matplotlib->torchdrug) (1.16.0)\n",
            "Requirement already satisfied: mpmath>=0.19 in /usr/local/lib/python3.10/dist-packages (from sympy->torch>=1.8.0->torchdrug) (1.3.0)\n"
          ]
        }
      ],
      "source": [
        "import os\n",
        "import torch\n",
        "\n",
        "!pip install torch-scatter -f https://data.pyg.org/whl/torch-{torch.__version__}.html\n",
        "!pip install torch-cluster -f https://data.pyg.org/whl/torch-{torch.__version__}.html\n",
        "\n",
        "!pip install torchdrug"
      ]
    },
    {
      "cell_type": "markdown",
      "source": [
        "The **chemicalx** dependecy is installed so the model implemented in this report can be evaulated against the implementation from the ChemicalX library as well as the DeepDDS model implementation. The **torchdrug** dependency is installed to utilize the PackedGraph and Molecule data structures."
      ],
      "metadata": {
        "id": "CJMeucrRY_R8"
      }
    },
    {
      "cell_type": "code",
      "execution_count": 2,
      "metadata": {
        "id": "6b7G92c60Du9",
        "colab": {
          "base_uri": "https://localhost:8080/"
        },
        "outputId": "23a6bd09-e98a-4551-8afc-608fd3df7c69"
      },
      "outputs": [
        {
          "output_type": "stream",
          "name": "stderr",
          "text": [
            "No CUDA runtime is found, using CUDA_HOME='/usr/local/cuda'\n",
            "INFO:numexpr.utils:NumExpr defaulting to 2 threads.\n"
          ]
        },
        {
          "output_type": "stream",
          "name": "stdout",
          "text": [
            "03:31:19   NumExpr defaulting to 2 threads.\n"
          ]
        }
      ],
      "source": [
        "import csv\n",
        "import io\n",
        "import json\n",
        "import time\n",
        "import torchdrug\n",
        "import urllib.request\n",
        "import warnings\n",
        "\n",
        "import matplotlib.patches as mpatches\n",
        "import matplotlib.pyplot as plt\n",
        "import numpy as np\n",
        "import pandas as pd\n",
        "\n",
        "from torch.utils.data import Dataset, DataLoader\n",
        "from torchdrug.data import PackedGraph, Molecule\n",
        "from sklearn.metrics import average_precision_score, f1_score, roc_auc_score\n",
        "from sklearn.model_selection import train_test_split"
      ]
    },
    {
      "cell_type": "markdown",
      "metadata": {
        "id": "2NbPHUTMbkD3"
      },
      "source": [
        "##  Data\n",
        "The raw data is from ChemicalX's [GitHub](https://github.com/AstraZeneca/chemicalx/tree/main) repository, which was originally sourced from DrugCombDB [2], which contains data on known synergistic drug pairs that are effective at destroying certain cancer cell types. The raw data includes 3 datasets: *drug_set.json* , *context_set.json*, and *labeled_triples.csv*.\n",
        "\n",
        "*drug_set.json* provides drug IDs, their respective simplified molecular-input line-entry system (SMILE), which is a line notation describing the structure of the molecular compound, and their features.\n",
        "\n",
        "*context_set.json* provides contexts, which are specific IDs of cancer cell lines and their features. Cell lines are populations of isolated cells that are commonly used in cancer treatment research.\n",
        "\n",
        "*labeled_triples.csv* includes two drug IDs, a context, and a boolean indicating if the pair of drugs are synergetic."
      ]
    },
    {
      "cell_type": "code",
      "source": [
        "# ignore warnings from torchdrug.data.Molecule\n",
        "warnings.filterwarnings('ignore')"
      ],
      "metadata": {
        "id": "9jaC8ja54z9K"
      },
      "execution_count": 3,
      "outputs": []
    },
    {
      "cell_type": "markdown",
      "source": [
        "Download the raw data files:"
      ],
      "metadata": {
        "id": "gCowy2dh_iat"
      }
    },
    {
      "cell_type": "code",
      "source": [
        "!gdown 1B4rFgBQrH-UgY3MYx48awHcWHMIODumI\n",
        "!gdown 15fjupmoovZgCUad5I6lNcYURkdTqECvn\n",
        "!gdown 1SCNCDmwgCI9ATtc_WbiDtrl6wZs3qcg1&usp"
      ],
      "metadata": {
        "id": "yhNdCic55Ex_",
        "colab": {
          "base_uri": "https://localhost:8080/"
        },
        "outputId": "52c26a91-7aaf-4627-8a05-9e412898c525"
      },
      "execution_count": 4,
      "outputs": [
        {
          "output_type": "stream",
          "name": "stdout",
          "text": [
            "Downloading...\n",
            "From: https://drive.google.com/uc?id=1B4rFgBQrH-UgY3MYx48awHcWHMIODumI\n",
            "To: /content/drug_set.json\n",
            "100% 11.8M/11.8M [00:00<00:00, 63.2MB/s]\n",
            "Downloading...\n",
            "From: https://drive.google.com/uc?id=15fjupmoovZgCUad5I6lNcYURkdTqECvn\n",
            "To: /content/context_set.json\n",
            "100% 140k/140k [00:00<00:00, 11.0MB/s]\n",
            "/bin/bash: line 1: usp: command not found\n",
            "Downloading...\n",
            "From: https://drive.google.com/uc?id=1SCNCDmwgCI9ATtc_WbiDtrl6wZs3qcg1\n",
            "To: /content/labeled_triples.csv\n",
            "100% 4.27M/4.27M [00:00<00:00, 38.2MB/s]\n"
          ]
        }
      ]
    },
    {
      "cell_type": "code",
      "source": [
        "drug_set_path = '/content/drug_set.json'\n",
        "context_set_path = '/content/context_set.json'\n",
        "labeled_triples_path = '/content/labeled_triples.csv'"
      ],
      "metadata": {
        "id": "befbHaZPXABF"
      },
      "execution_count": 5,
      "outputs": []
    },
    {
      "cell_type": "markdown",
      "source": [
        "Load the raw data:"
      ],
      "metadata": {
        "id": "UHIowfDs_la6"
      }
    },
    {
      "cell_type": "code",
      "execution_count": 6,
      "metadata": {
        "id": "8X2WnSxr1Yoc"
      },
      "outputs": [],
      "source": [
        "def load_raw_data(drug_set_path, context_set_path, labeled_triples_path):\n",
        "  drug_set = None\n",
        "  context_set = None\n",
        "\n",
        "  with open(drug_set_path) as f:\n",
        "    drug_set = json.load(f)\n",
        "\n",
        "  with open(context_set_path) as f:\n",
        "    context_set = json.load(f)\n",
        "\n",
        "  drug_features = {k: torch.FloatTensor(v[\"features\"]).view(1, -1) for k, v in drug_set.items()}\n",
        "  context_features = {k: torch.FloatTensor(np.array(v).reshape(1, -1)) for k, v in context_set.items()}\n",
        "  labeled_triples = pd.read_csv(labeled_triples_path, encoding=\"utf8\", sep=\",\", dtype={\"drug_1\": str, \"drug_2\": str, \"context\": str, \"label\": float})\n",
        "\n",
        "  return drug_features, context_features, labeled_triples\n",
        "\n",
        "drug_features, context_features, labeled_triples = load_raw_data(drug_set_path, context_set_path, labeled_triples_path)"
      ]
    },
    {
      "cell_type": "code",
      "source": [
        "def calculate_stats(data):\n",
        "  num_features = len(data)\n",
        "  return num_features\n",
        "\n",
        "print(\"Number of drug features: {}\".format(calculate_stats(drug_features)))\n",
        "print(\"Number of context features: {}\".format(calculate_stats(context_features)))\n",
        "print(\"Number of labeled triples: {}\".format(calculate_stats(labeled_triples)))"
      ],
      "metadata": {
        "colab": {
          "base_uri": "https://localhost:8080/"
        },
        "id": "-B4tqxpAXQV9",
        "outputId": "af98ac7f-3f59-43c5-857c-949759f3fdd6"
      },
      "execution_count": 7,
      "outputs": [
        {
          "output_type": "stream",
          "name": "stdout",
          "text": [
            "Number of drug features: 2956\n",
            "Number of context features: 112\n",
            "Number of labeled triples: 191391\n"
          ]
        }
      ]
    },
    {
      "cell_type": "code",
      "source": [
        "class DeepSynergyDataset(Dataset):\n",
        "    def __init__(self, drug_features, context_features, labeled_triples):\n",
        "        self.drug_features = drug_features\n",
        "        self.context_features = context_features\n",
        "        self.labeled_triples = labeled_triples\n",
        "\n",
        "    def __len__(self):\n",
        "        return len(self.labeled_triples)\n",
        "\n",
        "    def __getitem__(self, index):\n",
        "        row = self.labeled_triples.iloc[index]\n",
        "        return self.drug_features[row[\"drug_1\"]], self.drug_features[row[\"drug_2\"]], self.context_features[row[\"context\"]], row[\"label\"]\n",
        "\n",
        "dataset = DeepSynergyDataset(drug_features, context_features, labeled_triples)"
      ],
      "metadata": {
        "id": "-xN4iq8t0WPS"
      },
      "execution_count": 8,
      "outputs": []
    },
    {
      "cell_type": "code",
      "execution_count": 9,
      "metadata": {
        "id": "L4mG3wj61d1y"
      },
      "outputs": [],
      "source": [
        "def process_data(drug_features, context_features, labeled_triples):\n",
        "  drug_feature_matrix = torch.cat([drug_features[i] for i in drug_features])\n",
        "  context_feature_matrix = torch.cat([context_features[i] for i in context_features])\n",
        "  return drug_feature_matrix, context_feature_matrix\n",
        "\n",
        "drug_feature_matrix, context_feature_matrix = process_data(drug_features, context_features, labeled_triples)"
      ]
    },
    {
      "cell_type": "markdown",
      "metadata": {
        "id": "3muyDPFPbozY"
      },
      "source": [
        "##   Model\n",
        "\n",
        "  The model below is based on the implementation from the [ChemicalX's GitHub repository](https://github.com/AstraZeneca/chemicalx/tree/main) of the DeepSynergy [2] model.\n",
        "\n",
        "  The model with 624 input channels and includes four fully connected linear layers, alternated with activation layers using ReLU. Dropout is applied before the hidden states are passed through the last linear layer and the final activation layer using the Sigmoid function."
      ]
    },
    {
      "cell_type": "code",
      "source": [
        "class DeepSynergy(torch.nn.Module):\n",
        "  def __init__(self, context_channels, drug_channels):\n",
        "    super().__init__()\n",
        "    self.l1 = torch.nn.Linear(2 * drug_channels + context_channels, 128)\n",
        "    self.l2 = torch.nn.Linear(128, 32)\n",
        "    self.l3 = torch.nn.Linear(32, 16)\n",
        "    self.l4 = torch.nn.Linear(16, 1)\n",
        "\n",
        "    self.dropout = torch.nn.Dropout(0.5)\n",
        "    self.relu = torch.nn.ReLU()\n",
        "    self.sigmoid = torch.nn.Sigmoid()\n",
        "\n",
        "\n",
        "  def forward(self, context_features, drug_features_left, drug_features_right):\n",
        "    context_features = context_features.squeeze()\n",
        "    drug_features_left = drug_features_left.squeeze()\n",
        "    drug_features_right = drug_features_right.squeeze()\n",
        "    hidden = torch.cat([context_features, drug_features_left, drug_features_right], dim=1)\n",
        "    hidden = self.l3(self.relu(self.l2(self.relu(self.l1(hidden)))))\n",
        "    return self.sigmoid(self.l4(self.dropout(self.relu(hidden))))\n",
        "\n",
        "deep_synergy_model = DeepSynergy(context_feature_matrix.shape[1], drug_feature_matrix.shape[1])"
      ],
      "metadata": {
        "id": "tQPPynR_A82V"
      },
      "execution_count": 10,
      "outputs": []
    },
    {
      "cell_type": "markdown",
      "metadata": {
        "id": "ja3Lyr2_V_fv"
      },
      "source": [
        "##   Training\n",
        "The batch size used to split the traning data is 5120, which is the default number used to test all the models withing the ChemicalX library. Smaller batch sizes between 2000 - 4000 were also tested, but required much more execution time. Other hyperparameters that were tested was the dropout rate and the input & output channels for the second, third, and fourth linear layers.\n",
        "\n",
        "The model is trained using 100 epochs, which is the default number epochs used to test all the models within the ChemicalX library. The average length of each epoch is 2.211 seconds. While using Google Colab without a subscription, only a certain amount of compute units are provided, so the runtime is limited when connecting to a GPU.\n",
        "\n",
        "The loss function is specified as Binary Cross Entropy and the optimizer is set to Adam algorithm with the default learning rate of 0.001."
      ]
    },
    {
      "cell_type": "code",
      "execution_count": 11,
      "metadata": {
        "id": "7HidZMdOV_E5"
      },
      "outputs": [],
      "source": [
        "training_data, test_data = train_test_split(dataset, train_size=0.8, random_state=42)\n",
        "\n",
        "train_loader = DataLoader(training_data, batch_size=5120, shuffle=True)\n",
        "test_loader = DataLoader(test_data, batch_size=5120, shuffle=False)"
      ]
    },
    {
      "cell_type": "code",
      "source": [
        "loss_func = torch.nn.BCELoss()\n",
        "optimizer = torch.optim.Adam(deep_synergy_model.parameters())"
      ],
      "metadata": {
        "id": "WcDxSXOK6Nw9"
      },
      "execution_count": 12,
      "outputs": []
    },
    {
      "cell_type": "markdown",
      "source": [],
      "metadata": {
        "id": "ZYR3G5hmQJ3y"
      }
    },
    {
      "cell_type": "code",
      "source": [
        "for epoch in range(100):\n",
        "  deep_synergy_model.train()\n",
        "  train_loss = 0\n",
        "\n",
        "  for batch in train_loader:\n",
        "    optimizer.zero_grad()\n",
        "\n",
        "    drug_features_left, drug_features_right, context, label = batch\n",
        "    prediction = deep_synergy_model(context, drug_features_left, drug_features_right).squeeze()\n",
        "\n",
        "    label = label.to(torch.float32)\n",
        "    loss = loss_func(prediction, label)\n",
        "    loss.backward()\n",
        "    train_loss += loss.item()\n",
        "\n",
        "    optimizer.step()\n",
        "\n",
        "  train_loss = train_loss / len(train_loader)\n",
        "  print('Epoch: {} \\t Training Loss: {:.6f}'.format(epoch + 1, train_loss))"
      ],
      "metadata": {
        "colab": {
          "base_uri": "https://localhost:8080/"
        },
        "id": "7Mh5h9vUXswq",
        "outputId": "7bb0d592-8031-44c2-a9bb-96e62d45ffc7"
      },
      "execution_count": 13,
      "outputs": [
        {
          "output_type": "stream",
          "name": "stdout",
          "text": [
            "Epoch: 1 \t Training Loss: 0.654763\n",
            "Epoch: 2 \t Training Loss: 0.587377\n",
            "Epoch: 3 \t Training Loss: 0.554971\n",
            "Epoch: 4 \t Training Loss: 0.537542\n",
            "Epoch: 5 \t Training Loss: 0.523202\n",
            "Epoch: 6 \t Training Loss: 0.510128\n",
            "Epoch: 7 \t Training Loss: 0.499037\n",
            "Epoch: 8 \t Training Loss: 0.490050\n",
            "Epoch: 9 \t Training Loss: 0.480363\n",
            "Epoch: 10 \t Training Loss: 0.471331\n",
            "Epoch: 11 \t Training Loss: 0.464153\n",
            "Epoch: 12 \t Training Loss: 0.459352\n",
            "Epoch: 13 \t Training Loss: 0.450883\n",
            "Epoch: 14 \t Training Loss: 0.444747\n",
            "Epoch: 15 \t Training Loss: 0.439626\n",
            "Epoch: 16 \t Training Loss: 0.433810\n",
            "Epoch: 17 \t Training Loss: 0.427829\n",
            "Epoch: 18 \t Training Loss: 0.421985\n",
            "Epoch: 19 \t Training Loss: 0.417533\n",
            "Epoch: 20 \t Training Loss: 0.412688\n",
            "Epoch: 21 \t Training Loss: 0.408776\n",
            "Epoch: 22 \t Training Loss: 0.403518\n",
            "Epoch: 23 \t Training Loss: 0.400276\n",
            "Epoch: 24 \t Training Loss: 0.395077\n",
            "Epoch: 25 \t Training Loss: 0.392333\n",
            "Epoch: 26 \t Training Loss: 0.390732\n",
            "Epoch: 27 \t Training Loss: 0.383570\n",
            "Epoch: 28 \t Training Loss: 0.381898\n",
            "Epoch: 29 \t Training Loss: 0.377109\n",
            "Epoch: 30 \t Training Loss: 0.373425\n",
            "Epoch: 31 \t Training Loss: 0.370816\n",
            "Epoch: 32 \t Training Loss: 0.367818\n",
            "Epoch: 33 \t Training Loss: 0.363480\n",
            "Epoch: 34 \t Training Loss: 0.361954\n",
            "Epoch: 35 \t Training Loss: 0.356932\n",
            "Epoch: 36 \t Training Loss: 0.356206\n",
            "Epoch: 37 \t Training Loss: 0.350927\n",
            "Epoch: 38 \t Training Loss: 0.350864\n",
            "Epoch: 39 \t Training Loss: 0.345942\n",
            "Epoch: 40 \t Training Loss: 0.342800\n",
            "Epoch: 41 \t Training Loss: 0.340741\n",
            "Epoch: 42 \t Training Loss: 0.340158\n",
            "Epoch: 43 \t Training Loss: 0.336511\n",
            "Epoch: 44 \t Training Loss: 0.335726\n",
            "Epoch: 45 \t Training Loss: 0.329650\n",
            "Epoch: 46 \t Training Loss: 0.330603\n",
            "Epoch: 47 \t Training Loss: 0.327277\n",
            "Epoch: 48 \t Training Loss: 0.323588\n",
            "Epoch: 49 \t Training Loss: 0.321219\n",
            "Epoch: 50 \t Training Loss: 0.319193\n",
            "Epoch: 51 \t Training Loss: 0.317213\n",
            "Epoch: 52 \t Training Loss: 0.319372\n",
            "Epoch: 53 \t Training Loss: 0.319275\n",
            "Epoch: 54 \t Training Loss: 0.310277\n",
            "Epoch: 55 \t Training Loss: 0.305460\n",
            "Epoch: 56 \t Training Loss: 0.307383\n",
            "Epoch: 57 \t Training Loss: 0.306064\n",
            "Epoch: 58 \t Training Loss: 0.300142\n",
            "Epoch: 59 \t Training Loss: 0.298454\n",
            "Epoch: 60 \t Training Loss: 0.296502\n",
            "Epoch: 61 \t Training Loss: 0.295857\n",
            "Epoch: 62 \t Training Loss: 0.297548\n",
            "Epoch: 63 \t Training Loss: 0.291891\n",
            "Epoch: 64 \t Training Loss: 0.292716\n",
            "Epoch: 65 \t Training Loss: 0.289087\n",
            "Epoch: 66 \t Training Loss: 0.289860\n",
            "Epoch: 67 \t Training Loss: 0.292739\n",
            "Epoch: 68 \t Training Loss: 0.284289\n",
            "Epoch: 69 \t Training Loss: 0.282288\n",
            "Epoch: 70 \t Training Loss: 0.279451\n",
            "Epoch: 71 \t Training Loss: 0.281792\n",
            "Epoch: 72 \t Training Loss: 0.276957\n",
            "Epoch: 73 \t Training Loss: 0.279416\n",
            "Epoch: 74 \t Training Loss: 0.273141\n",
            "Epoch: 75 \t Training Loss: 0.272454\n",
            "Epoch: 76 \t Training Loss: 0.271097\n",
            "Epoch: 77 \t Training Loss: 0.273192\n",
            "Epoch: 78 \t Training Loss: 0.269232\n",
            "Epoch: 79 \t Training Loss: 0.270749\n",
            "Epoch: 80 \t Training Loss: 0.268607\n",
            "Epoch: 81 \t Training Loss: 0.270070\n",
            "Epoch: 82 \t Training Loss: 0.263636\n",
            "Epoch: 83 \t Training Loss: 0.260536\n",
            "Epoch: 84 \t Training Loss: 0.260225\n",
            "Epoch: 85 \t Training Loss: 0.258119\n",
            "Epoch: 86 \t Training Loss: 0.255894\n",
            "Epoch: 87 \t Training Loss: 0.254976\n",
            "Epoch: 88 \t Training Loss: 0.253798\n",
            "Epoch: 89 \t Training Loss: 0.252284\n",
            "Epoch: 90 \t Training Loss: 0.257546\n",
            "Epoch: 91 \t Training Loss: 0.252883\n",
            "Epoch: 92 \t Training Loss: 0.248700\n",
            "Epoch: 93 \t Training Loss: 0.245903\n",
            "Epoch: 94 \t Training Loss: 0.248226\n",
            "Epoch: 95 \t Training Loss: 0.246734\n",
            "Epoch: 96 \t Training Loss: 0.243288\n",
            "Epoch: 97 \t Training Loss: 0.243623\n",
            "Epoch: 98 \t Training Loss: 0.241976\n",
            "Epoch: 99 \t Training Loss: 0.239625\n",
            "Epoch: 100 \t Training Loss: 0.238925\n"
          ]
        }
      ]
    },
    {
      "cell_type": "markdown",
      "metadata": {
        "id": "gX6bCcZNuxmz"
      },
      "source": [
        "# Results\n",
        "\n",
        "The model implemented in this report is evaluated on the same metrics used to evaulate all the models in the ChemicalX paper: AUPRC, AUROC, and F1.\n",
        "\n",
        "1. AUPRC: This metric indicates how well your model ranks predictions. A high AUPRC ...\n",
        "\n",
        "2. AUROC: This metric... A high AUROC indicates a high TPR (true positive rate) and a low FPR (false positive rate).\n",
        "\n",
        "3. F1: The F1 score indicates the reliability of a model. A high F1 score indicates that the model can achieve both high recall and high precision."
      ]
    },
    {
      "cell_type": "code",
      "execution_count": 14,
      "metadata": {
        "id": "LjW9bCkouv8O",
        "colab": {
          "base_uri": "https://localhost:8080/"
        },
        "outputId": "c8eb7c0d-0a3d-48b6-e9b9-79a874b59baf"
      },
      "outputs": [
        {
          "output_type": "stream",
          "name": "stdout",
          "text": [
            "AUPRC: 0.688 \n",
            "AUROC: 0.827 \n",
            "F1: 0.610\n"
          ]
        }
      ],
      "source": [
        "deep_synergy_model.eval()\n",
        "\n",
        "y_pred = torch.LongTensor()\n",
        "y_score = torch.Tensor()\n",
        "y_true = torch.LongTensor()\n",
        "\n",
        "for batch in test_loader:\n",
        "    drug_features_left, drug_features_right, context, label = batch\n",
        "    y_hat = deep_synergy_model(context, drug_features_left, drug_features_right).squeeze()\n",
        "    label = label.to(torch.float32)\n",
        "\n",
        "    y_score = torch.cat((y_score,  y_hat.detach()), dim = 0)\n",
        "    y_pred = torch.cat((y_pred,  (y_hat > 0.5).int().detach()), dim = 0)\n",
        "    y_true = torch.cat((y_true, label.detach()), dim = 0)\n",
        "\n",
        "auprc = average_precision_score(y_true, y_score)\n",
        "auroc = roc_auc_score(y_true, y_score)\n",
        "f1 = f1_score(y_true, y_pred)\n",
        "\n",
        "print('AUPRC: {:.3f} \\nAUROC: {:.3f} \\nF1: {:.3f}'.format(auprc, auroc, f1))"
      ]
    },
    {
      "cell_type": "markdown",
      "metadata": {
        "id": "8EAWAy_LwHlV"
      },
      "source": [
        "## Model comparison\n",
        "\n",
        "Here are the metrics of the DeepSynergy and DeepDDS models from the ChemicalX library for comparision:"
      ]
    },
    {
      "cell_type": "code",
      "execution_count": 15,
      "metadata": {
        "id": "uOdhGrbwwG71",
        "colab": {
          "base_uri": "https://localhost:8080/",
          "height": 143
        },
        "outputId": "8dd5fa82-d5c3-4c80-9fa0-2504c286acf3"
      },
      "outputs": [
        {
          "output_type": "execute_result",
          "data": {
            "text/plain": [
              "  metrics  DeepSynergy (notebook)  DeepSynergy (ChemicalX)  \\\n",
              "0   AURPC                   0.694                    0.758   \n",
              "1   AUROC                   0.830                    0.702   \n",
              "2      F1                   0.622                    0.725   \n",
              "\n",
              "   DeepDDS (ChemicalX)  \n",
              "0                0.729  \n",
              "1                0.663  \n",
              "2                0.702  "
            ],
            "text/html": [
              "\n",
              "  <div id=\"df-2a8765bf-8aa9-41aa-9fb8-35d38076f4dd\" class=\"colab-df-container\">\n",
              "    <div>\n",
              "<style scoped>\n",
              "    .dataframe tbody tr th:only-of-type {\n",
              "        vertical-align: middle;\n",
              "    }\n",
              "\n",
              "    .dataframe tbody tr th {\n",
              "        vertical-align: top;\n",
              "    }\n",
              "\n",
              "    .dataframe thead th {\n",
              "        text-align: right;\n",
              "    }\n",
              "</style>\n",
              "<table border=\"1\" class=\"dataframe\">\n",
              "  <thead>\n",
              "    <tr style=\"text-align: right;\">\n",
              "      <th></th>\n",
              "      <th>metrics</th>\n",
              "      <th>DeepSynergy (notebook)</th>\n",
              "      <th>DeepSynergy (ChemicalX)</th>\n",
              "      <th>DeepDDS (ChemicalX)</th>\n",
              "    </tr>\n",
              "  </thead>\n",
              "  <tbody>\n",
              "    <tr>\n",
              "      <th>0</th>\n",
              "      <td>AURPC</td>\n",
              "      <td>0.694</td>\n",
              "      <td>0.758</td>\n",
              "      <td>0.729</td>\n",
              "    </tr>\n",
              "    <tr>\n",
              "      <th>1</th>\n",
              "      <td>AUROC</td>\n",
              "      <td>0.830</td>\n",
              "      <td>0.702</td>\n",
              "      <td>0.663</td>\n",
              "    </tr>\n",
              "    <tr>\n",
              "      <th>2</th>\n",
              "      <td>F1</td>\n",
              "      <td>0.622</td>\n",
              "      <td>0.725</td>\n",
              "      <td>0.702</td>\n",
              "    </tr>\n",
              "  </tbody>\n",
              "</table>\n",
              "</div>\n",
              "    <div class=\"colab-df-buttons\">\n",
              "\n",
              "  <div class=\"colab-df-container\">\n",
              "    <button class=\"colab-df-convert\" onclick=\"convertToInteractive('df-2a8765bf-8aa9-41aa-9fb8-35d38076f4dd')\"\n",
              "            title=\"Convert this dataframe to an interactive table.\"\n",
              "            style=\"display:none;\">\n",
              "\n",
              "  <svg xmlns=\"http://www.w3.org/2000/svg\" height=\"24px\" viewBox=\"0 -960 960 960\">\n",
              "    <path d=\"M120-120v-720h720v720H120Zm60-500h600v-160H180v160Zm220 220h160v-160H400v160Zm0 220h160v-160H400v160ZM180-400h160v-160H180v160Zm440 0h160v-160H620v160ZM180-180h160v-160H180v160Zm440 0h160v-160H620v160Z\"/>\n",
              "  </svg>\n",
              "    </button>\n",
              "\n",
              "  <style>\n",
              "    .colab-df-container {\n",
              "      display:flex;\n",
              "      gap: 12px;\n",
              "    }\n",
              "\n",
              "    .colab-df-convert {\n",
              "      background-color: #E8F0FE;\n",
              "      border: none;\n",
              "      border-radius: 50%;\n",
              "      cursor: pointer;\n",
              "      display: none;\n",
              "      fill: #1967D2;\n",
              "      height: 32px;\n",
              "      padding: 0 0 0 0;\n",
              "      width: 32px;\n",
              "    }\n",
              "\n",
              "    .colab-df-convert:hover {\n",
              "      background-color: #E2EBFA;\n",
              "      box-shadow: 0px 1px 2px rgba(60, 64, 67, 0.3), 0px 1px 3px 1px rgba(60, 64, 67, 0.15);\n",
              "      fill: #174EA6;\n",
              "    }\n",
              "\n",
              "    .colab-df-buttons div {\n",
              "      margin-bottom: 4px;\n",
              "    }\n",
              "\n",
              "    [theme=dark] .colab-df-convert {\n",
              "      background-color: #3B4455;\n",
              "      fill: #D2E3FC;\n",
              "    }\n",
              "\n",
              "    [theme=dark] .colab-df-convert:hover {\n",
              "      background-color: #434B5C;\n",
              "      box-shadow: 0px 1px 3px 1px rgba(0, 0, 0, 0.15);\n",
              "      filter: drop-shadow(0px 1px 2px rgba(0, 0, 0, 0.3));\n",
              "      fill: #FFFFFF;\n",
              "    }\n",
              "  </style>\n",
              "\n",
              "    <script>\n",
              "      const buttonEl =\n",
              "        document.querySelector('#df-2a8765bf-8aa9-41aa-9fb8-35d38076f4dd button.colab-df-convert');\n",
              "      buttonEl.style.display =\n",
              "        google.colab.kernel.accessAllowed ? 'block' : 'none';\n",
              "\n",
              "      async function convertToInteractive(key) {\n",
              "        const element = document.querySelector('#df-2a8765bf-8aa9-41aa-9fb8-35d38076f4dd');\n",
              "        const dataTable =\n",
              "          await google.colab.kernel.invokeFunction('convertToInteractive',\n",
              "                                                    [key], {});\n",
              "        if (!dataTable) return;\n",
              "\n",
              "        const docLinkHtml = 'Like what you see? Visit the ' +\n",
              "          '<a target=\"_blank\" href=https://colab.research.google.com/notebooks/data_table.ipynb>data table notebook</a>'\n",
              "          + ' to learn more about interactive tables.';\n",
              "        element.innerHTML = '';\n",
              "        dataTable['output_type'] = 'display_data';\n",
              "        await google.colab.output.renderOutput(dataTable, element);\n",
              "        const docLink = document.createElement('div');\n",
              "        docLink.innerHTML = docLinkHtml;\n",
              "        element.appendChild(docLink);\n",
              "      }\n",
              "    </script>\n",
              "  </div>\n",
              "\n",
              "\n",
              "<div id=\"df-fc94d0d6-3ca7-48aa-9880-595b076cd1e2\">\n",
              "  <button class=\"colab-df-quickchart\" onclick=\"quickchart('df-fc94d0d6-3ca7-48aa-9880-595b076cd1e2')\"\n",
              "            title=\"Suggest charts\"\n",
              "            style=\"display:none;\">\n",
              "\n",
              "<svg xmlns=\"http://www.w3.org/2000/svg\" height=\"24px\"viewBox=\"0 0 24 24\"\n",
              "     width=\"24px\">\n",
              "    <g>\n",
              "        <path d=\"M19 3H5c-1.1 0-2 .9-2 2v14c0 1.1.9 2 2 2h14c1.1 0 2-.9 2-2V5c0-1.1-.9-2-2-2zM9 17H7v-7h2v7zm4 0h-2V7h2v10zm4 0h-2v-4h2v4z\"/>\n",
              "    </g>\n",
              "</svg>\n",
              "  </button>\n",
              "\n",
              "<style>\n",
              "  .colab-df-quickchart {\n",
              "      --bg-color: #E8F0FE;\n",
              "      --fill-color: #1967D2;\n",
              "      --hover-bg-color: #E2EBFA;\n",
              "      --hover-fill-color: #174EA6;\n",
              "      --disabled-fill-color: #AAA;\n",
              "      --disabled-bg-color: #DDD;\n",
              "  }\n",
              "\n",
              "  [theme=dark] .colab-df-quickchart {\n",
              "      --bg-color: #3B4455;\n",
              "      --fill-color: #D2E3FC;\n",
              "      --hover-bg-color: #434B5C;\n",
              "      --hover-fill-color: #FFFFFF;\n",
              "      --disabled-bg-color: #3B4455;\n",
              "      --disabled-fill-color: #666;\n",
              "  }\n",
              "\n",
              "  .colab-df-quickchart {\n",
              "    background-color: var(--bg-color);\n",
              "    border: none;\n",
              "    border-radius: 50%;\n",
              "    cursor: pointer;\n",
              "    display: none;\n",
              "    fill: var(--fill-color);\n",
              "    height: 32px;\n",
              "    padding: 0;\n",
              "    width: 32px;\n",
              "  }\n",
              "\n",
              "  .colab-df-quickchart:hover {\n",
              "    background-color: var(--hover-bg-color);\n",
              "    box-shadow: 0 1px 2px rgba(60, 64, 67, 0.3), 0 1px 3px 1px rgba(60, 64, 67, 0.15);\n",
              "    fill: var(--button-hover-fill-color);\n",
              "  }\n",
              "\n",
              "  .colab-df-quickchart-complete:disabled,\n",
              "  .colab-df-quickchart-complete:disabled:hover {\n",
              "    background-color: var(--disabled-bg-color);\n",
              "    fill: var(--disabled-fill-color);\n",
              "    box-shadow: none;\n",
              "  }\n",
              "\n",
              "  .colab-df-spinner {\n",
              "    border: 2px solid var(--fill-color);\n",
              "    border-color: transparent;\n",
              "    border-bottom-color: var(--fill-color);\n",
              "    animation:\n",
              "      spin 1s steps(1) infinite;\n",
              "  }\n",
              "\n",
              "  @keyframes spin {\n",
              "    0% {\n",
              "      border-color: transparent;\n",
              "      border-bottom-color: var(--fill-color);\n",
              "      border-left-color: var(--fill-color);\n",
              "    }\n",
              "    20% {\n",
              "      border-color: transparent;\n",
              "      border-left-color: var(--fill-color);\n",
              "      border-top-color: var(--fill-color);\n",
              "    }\n",
              "    30% {\n",
              "      border-color: transparent;\n",
              "      border-left-color: var(--fill-color);\n",
              "      border-top-color: var(--fill-color);\n",
              "      border-right-color: var(--fill-color);\n",
              "    }\n",
              "    40% {\n",
              "      border-color: transparent;\n",
              "      border-right-color: var(--fill-color);\n",
              "      border-top-color: var(--fill-color);\n",
              "    }\n",
              "    60% {\n",
              "      border-color: transparent;\n",
              "      border-right-color: var(--fill-color);\n",
              "    }\n",
              "    80% {\n",
              "      border-color: transparent;\n",
              "      border-right-color: var(--fill-color);\n",
              "      border-bottom-color: var(--fill-color);\n",
              "    }\n",
              "    90% {\n",
              "      border-color: transparent;\n",
              "      border-bottom-color: var(--fill-color);\n",
              "    }\n",
              "  }\n",
              "</style>\n",
              "\n",
              "  <script>\n",
              "    async function quickchart(key) {\n",
              "      const quickchartButtonEl =\n",
              "        document.querySelector('#' + key + ' button');\n",
              "      quickchartButtonEl.disabled = true;  // To prevent multiple clicks.\n",
              "      quickchartButtonEl.classList.add('colab-df-spinner');\n",
              "      try {\n",
              "        const charts = await google.colab.kernel.invokeFunction(\n",
              "            'suggestCharts', [key], {});\n",
              "      } catch (error) {\n",
              "        console.error('Error during call to suggestCharts:', error);\n",
              "      }\n",
              "      quickchartButtonEl.classList.remove('colab-df-spinner');\n",
              "      quickchartButtonEl.classList.add('colab-df-quickchart-complete');\n",
              "    }\n",
              "    (() => {\n",
              "      let quickchartButtonEl =\n",
              "        document.querySelector('#df-fc94d0d6-3ca7-48aa-9880-595b076cd1e2 button');\n",
              "      quickchartButtonEl.style.display =\n",
              "        google.colab.kernel.accessAllowed ? 'block' : 'none';\n",
              "    })();\n",
              "  </script>\n",
              "</div>\n",
              "    </div>\n",
              "  </div>\n"
            ],
            "application/vnd.google.colaboratory.intrinsic+json": {
              "type": "dataframe",
              "summary": "{\n  \"name\": \"})\",\n  \"rows\": 3,\n  \"fields\": [\n    {\n      \"column\": \"metrics\",\n      \"properties\": {\n        \"dtype\": \"string\",\n        \"num_unique_values\": 3,\n        \"samples\": [\n          \"AURPC\",\n          \"AUROC\",\n          \"F1\"\n        ],\n        \"semantic_type\": \"\",\n        \"description\": \"\"\n      }\n    },\n    {\n      \"column\": \"DeepSynergy (notebook)\",\n      \"properties\": {\n        \"dtype\": \"number\",\n        \"std\": 0.10562827904180457,\n        \"min\": 0.622,\n        \"max\": 0.83,\n        \"num_unique_values\": 3,\n        \"samples\": [\n          0.694,\n          0.83,\n          0.622\n        ],\n        \"semantic_type\": \"\",\n        \"description\": \"\"\n      }\n    },\n    {\n      \"column\": \"DeepSynergy (ChemicalX)\",\n      \"properties\": {\n        \"dtype\": \"number\",\n        \"std\": 0.02814841617806115,\n        \"min\": 0.702,\n        \"max\": 0.758,\n        \"num_unique_values\": 3,\n        \"samples\": [\n          0.758,\n          0.702,\n          0.725\n        ],\n        \"semantic_type\": \"\",\n        \"description\": \"\"\n      }\n    },\n    {\n      \"column\": \"DeepDDS (ChemicalX)\",\n      \"properties\": {\n        \"dtype\": \"number\",\n        \"std\": 0.03318132004607409,\n        \"min\": 0.663,\n        \"max\": 0.729,\n        \"num_unique_values\": 3,\n        \"samples\": [\n          0.729,\n          0.663,\n          0.702\n        ],\n        \"semantic_type\": \"\",\n        \"description\": \"\"\n      }\n    }\n  ]\n}"
            }
          },
          "metadata": {},
          "execution_count": 15
        }
      ],
      "source": [
        "pd.DataFrame({\n",
        "    'metrics' : ['AURPC', 'AUROC', 'F1'],\n",
        "    'DeepSynergy (notebook)' : [0.694, 0.830, 0.622],\n",
        "    'DeepSynergy (ChemicalX)' : [0.758, 0.702, 0.725],\n",
        "    'DeepDDS (ChemicalX)' : [0.729, 0.663, 0.702]\n",
        "}).head()"
      ]
    },
    {
      "cell_type": "code",
      "source": [
        "%matplotlib inline\n",
        "df = pd.DataFrame({\n",
        "    'models' : ['DeepSynergy (notebook)', 'DeepSynergy (notebook)', 'DeepSynergy (notebook)', 'DeepSynergy (ChemicalX)', 'DeepSynergy (ChemicalX)', 'DeepSynergy (ChemicalX)', 'DeepDDS (ChemicalX)', 'DeepDDS (ChemicalX)', 'DeepDDS (ChemicalX)'],\n",
        "    'metrics' : ['AURPC', 'AUROC', 'F1', 'AURPC', 'AUROC', 'F1', 'AURPC', 'AUROC', 'F1'],\n",
        "    'values' : [0.694, 0.830, 0.622, 0.758, 0.702, 0.725, 0.729, 0.663, 0.702]\n",
        "    }).pivot(index='metrics', columns='models', values='values')\n",
        "\n",
        "df.plot.bar(rot=0)\n",
        "plt.title('Metrics of drug synergy models', color='black')\n",
        "plt.legend(loc='center left', bbox_to_anchor=(1.0, 0.5))\n",
        "plt.show()"
      ],
      "metadata": {
        "id": "UP9oXBMzL9dE",
        "colab": {
          "base_uri": "https://localhost:8080/",
          "height": 472
        },
        "outputId": "647bf7ba-833e-4757-fbb7-1b42b6a15a70"
      },
      "execution_count": 16,
      "outputs": [
        {
          "output_type": "display_data",
          "data": {
            "text/plain": [
              "<Figure size 640x480 with 1 Axes>"
            ],
            "image/png": "[encoded data removed]"
          },
          "metadata": {}
        }
      ]
    },
    {
      "cell_type": "markdown",
      "source": [
        "As seen above, the implementation of DeepSynergy in this report achieved a higher AUROC than the DeepSynergy and DeepDDS model implmentations by ChemicalX; however, it did not achieve a higher AURPC or F1 score than those two models.\n",
        "\n",
        "One reason the model may not have performed as well as the original implementation is that not all of the optimizations in the ChemicalX library were implemented in this report, such as the training & evalution pipline, batch generators, and other various abstractions."
      ],
      "metadata": {
        "id": "2hRcHDMedWg1"
      }
    },
    {
      "cell_type": "markdown",
      "metadata": {
        "id": "qH75TNU71eRH"
      },
      "source": [
        "# Discussion\n",
        "\n",
        "In this report, the DeepSynergy model implementation from ChemicalX was reproduced. Referencing existing code from the library's GitHub repository helped shape the flow of this report; however, the library included many more abstractions to accomdate the 10 other models implemented by ChemicalX. Some abstractions include a data structure for drug pairs, a parent class for all models, training data batch generators, etc. These abstractions were not included in this report since it was unecessary to implement one model.\n"
      ]
    },
    {
      "cell_type": "markdown",
      "metadata": {
        "id": "SHMI2chl9omn"
      },
      "source": [
        "# References\n",
        "<!--\n",
        "1.   Sun, J, [paper title], [journal title], [year], [volume]:[issue], doi: [doi link to paper] -->\n",
        "\n",
        "1. Rozemberczki, B., Hoyt, C. T., Gogleva, A., Grabowski, P., Karis, K., Lamov, A., Nikolov, A., Nilsson, S., Ughetto, M., Wang, Y., Derr, T., & Gyori, B. M.,\n",
        "ChemicalX: A Deep Learning Library for Drug Pair Scoring,\n",
        "Proceedings of the 28th ACM SIGKDD Conference on Knowledge Discovery and Data Mining,\n",
        "2022,\n",
        "KDD ’22:The 28th ACM SIGKDD Conference on Knowledge Discovery and Data Mining, 3819–3828,\n",
        "doi:https://doi.org/10.1145/3534678.3539023\n",
        "\n",
        "\n",
        "2. Preuer, K., Lewis, R. P. I., Hochreiter, S., Bender, A., Bulusu, K. C., & Klambauer, G.,\n",
        "DeepSynergy: predicting anti-cancer drug synergy with Deep Learning,\n",
        "Bioinformatics,\n",
        "2018,\n",
        "34:9, 1538–1546,\n",
        "doi:https://doi.org/10.1093/bioinformatics/btx806\n",
        "\n",
        "\n",
        "3. J. Wang and X. Liu and S. Shen and L. Deng and H. Liu.,\n",
        "DeepDDS: deep graph neural network with attention mechanism to predict synergistic drug combinations,\n",
        "Briefings in Bioinformatics,\n",
        "2021,\n",
        "23:1\n",
        "doi:https://doi.org/10.1093/bib/bbab390\n",
        "\n",
        "\n",
        "4. Liu, H., Zhang, W., Zou, B., Wang, J., Deng, Y., & Deng, L.,\n",
        "DrugCombDB: a comprehensive database of drug combinations toward the discovery of combinatorial therapy,\n",
        "Nucleic Acids Research,\n",
        "2020,\n",
        "48:D1, D871-D881,\n",
        "doi:https://doi.org/10.1093/nar/gkz1007"
      ]
    }
  ],
  "metadata": {
    "colab": {
      "provenance": []
    },
    "kernelspec": {
      "display_name": "Python 3",
      "name": "python3"
    },
    "language_info": {
      "name": "python"
    }
  },
  "nbformat": 4,
  "nbformat_minor": 0
}